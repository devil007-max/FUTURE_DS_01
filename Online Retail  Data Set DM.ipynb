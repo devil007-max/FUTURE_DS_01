{
 "cells": [
  {
   "cell_type": "code",
   "execution_count": 3,
   "id": "1b1a5634-a263-44d7-b55b-439c11d2c128",
   "metadata": {},
   "outputs": [],
   "source": [
    "import pandas as pd\n",
    "import numpy as np \n",
    "import matplotlib.pyplot as plt\n",
    "import seaborn as sns\n",
    "import glob"
   ]
  },
  {
   "cell_type": "code",
   "execution_count": 4,
   "id": "9c68cbdb-c37e-4d16-b2ff-51b83294843c",
   "metadata": {},
   "outputs": [
    {
     "name": "stdout",
     "output_type": "stream",
     "text": [
      "Total files combined: 2\n",
      "------------------------------\n",
      "First 5 rows of the master table:\n",
      "  Invoice StockCode                          Description  Quantity  \\\n",
      "0  489434     85048  15CM CHRISTMAS GLASS BALL 20 LIGHTS        12   \n",
      "1  489434    79323P                   PINK CHERRY LIGHTS        12   \n",
      "2  489434    79323W                  WHITE CHERRY LIGHTS        12   \n",
      "3  489434     22041         RECORD FRAME 7\" SINGLE SIZE         48   \n",
      "4  489434     21232       STRAWBERRY CERAMIC TRINKET BOX        24   \n",
      "\n",
      "      InvoiceDate  Price  Customer ID         Country  \n",
      "0  12/1/2009 7:45   6.95      13085.0  United Kingdom  \n",
      "1  12/1/2009 7:45   6.75      13085.0  United Kingdom  \n",
      "2  12/1/2009 7:45   6.75      13085.0  United Kingdom  \n",
      "3  12/1/2009 7:45   2.10      13085.0  United Kingdom  \n",
      "4  12/1/2009 7:45   1.25      13085.0  United Kingdom  \n",
      "------------------------------\n",
      "Total Rows in Master Data: 1,067,371\n"
     ]
    }
   ],
   "source": [
    "\n",
    "# Step 1: Find all the CSV files in your current working directory\n",
    "# The '*' acts as a wildcard, finding any file ending with '.csv'\n",
    "all_csv_files = glob.glob(\"*.csv\")\n",
    "\n",
    "# Step 2: Read and combine all files into one DataFrame\n",
    "# pd.concat stacks all the individual DataFrames found in the loop\n",
    "df_master = pd.concat((\n",
    "    pd.read_csv(f, encoding='unicode_escape', low_memory=False) \n",
    "    for f in all_csv_files\n",
    "), ignore_index=True)\n",
    "\n",
    "# Step 3: Display information about the new, combined DataFrame\n",
    "print(f\"Total files combined: {len(all_csv_files)}\")\n",
    "print(\"-\" * 30)\n",
    "print(\"First 5 rows of the master table:\")\n",
    "print(df_master.head())\n",
    "print(\"-\" * 30)\n",
    "print(f\"Total Rows in Master Data: {len(df_master):,}\")"
   ]
  },
  {
   "cell_type": "code",
   "execution_count": 9,
   "id": "c3cd26e1-cf7f-4ade-aca1-58adca2b2a7c",
   "metadata": {},
   "outputs": [
    {
     "data": {
      "text/plain": [
       "Invoice         object\n",
       "StockCode       object\n",
       "Description     object\n",
       "Quantity         int64\n",
       "InvoiceDate     object\n",
       "Price          float64\n",
       "Customer ID    float64\n",
       "Country         object\n",
       "dtype: object"
      ]
     },
     "execution_count": 9,
     "metadata": {},
     "output_type": "execute_result"
    }
   ],
   "source": [
    "#CHECKING DATA TYPE\n",
    "df_master.dtypes"
   ]
  },
  {
   "cell_type": "code",
   "execution_count": 10,
   "id": "1fd9f4fb-b65a-486e-b92d-326f225f01b4",
   "metadata": {},
   "outputs": [],
   "source": [
    "# 1. Convert InvoiceDate to datetime object\n",
    "df_master['InvoiceDate'] = pd.to_datetime(df_master['InvoiceDate'])"
   ]
  },
  {
   "cell_type": "code",
   "execution_count": 11,
   "id": "14d2ceaf-1199-4c27-8ffb-7b9a2c173054",
   "metadata": {},
   "outputs": [],
   "source": [
    "# 2. Convert Customer ID to string (it's an ID, not a number for math)\n",
    "# We fill NaN with 0 for now just to make sure the type conversion works without error\n",
    "# The next step will remove these rows anyway.\n",
    "df_master['Customer ID'] = df_master['Customer ID'].astype(str)"
   ]
  },
  {
   "cell_type": "code",
   "execution_count": 13,
   "id": "e565548f-9ba2-46bb-a1a9-32def835e944",
   "metadata": {},
   "outputs": [
    {
     "data": {
      "text/html": [
       "<div>\n",
       "<style scoped>\n",
       "    .dataframe tbody tr th:only-of-type {\n",
       "        vertical-align: middle;\n",
       "    }\n",
       "\n",
       "    .dataframe tbody tr th {\n",
       "        vertical-align: top;\n",
       "    }\n",
       "\n",
       "    .dataframe thead th {\n",
       "        text-align: right;\n",
       "    }\n",
       "</style>\n",
       "<table border=\"1\" class=\"dataframe\">\n",
       "  <thead>\n",
       "    <tr style=\"text-align: right;\">\n",
       "      <th></th>\n",
       "      <th>Invoice</th>\n",
       "      <th>StockCode</th>\n",
       "      <th>Description</th>\n",
       "      <th>Quantity</th>\n",
       "      <th>InvoiceDate</th>\n",
       "      <th>Price</th>\n",
       "      <th>Customer ID</th>\n",
       "      <th>Country</th>\n",
       "      <th>Revenue</th>\n",
       "    </tr>\n",
       "  </thead>\n",
       "  <tbody>\n",
       "    <tr>\n",
       "      <th>0</th>\n",
       "      <td>489434</td>\n",
       "      <td>85048</td>\n",
       "      <td>15CM CHRISTMAS GLASS BALL 20 LIGHTS</td>\n",
       "      <td>12</td>\n",
       "      <td>2009-12-01 07:45:00</td>\n",
       "      <td>6.95</td>\n",
       "      <td>13085.0</td>\n",
       "      <td>United Kingdom</td>\n",
       "      <td>83.4</td>\n",
       "    </tr>\n",
       "    <tr>\n",
       "      <th>1</th>\n",
       "      <td>489434</td>\n",
       "      <td>79323P</td>\n",
       "      <td>PINK CHERRY LIGHTS</td>\n",
       "      <td>12</td>\n",
       "      <td>2009-12-01 07:45:00</td>\n",
       "      <td>6.75</td>\n",
       "      <td>13085.0</td>\n",
       "      <td>United Kingdom</td>\n",
       "      <td>81.0</td>\n",
       "    </tr>\n",
       "    <tr>\n",
       "      <th>2</th>\n",
       "      <td>489434</td>\n",
       "      <td>79323W</td>\n",
       "      <td>WHITE CHERRY LIGHTS</td>\n",
       "      <td>12</td>\n",
       "      <td>2009-12-01 07:45:00</td>\n",
       "      <td>6.75</td>\n",
       "      <td>13085.0</td>\n",
       "      <td>United Kingdom</td>\n",
       "      <td>81.0</td>\n",
       "    </tr>\n",
       "    <tr>\n",
       "      <th>3</th>\n",
       "      <td>489434</td>\n",
       "      <td>22041</td>\n",
       "      <td>RECORD FRAME 7\" SINGLE SIZE</td>\n",
       "      <td>48</td>\n",
       "      <td>2009-12-01 07:45:00</td>\n",
       "      <td>2.10</td>\n",
       "      <td>13085.0</td>\n",
       "      <td>United Kingdom</td>\n",
       "      <td>100.8</td>\n",
       "    </tr>\n",
       "    <tr>\n",
       "      <th>4</th>\n",
       "      <td>489434</td>\n",
       "      <td>21232</td>\n",
       "      <td>STRAWBERRY CERAMIC TRINKET BOX</td>\n",
       "      <td>24</td>\n",
       "      <td>2009-12-01 07:45:00</td>\n",
       "      <td>1.25</td>\n",
       "      <td>13085.0</td>\n",
       "      <td>United Kingdom</td>\n",
       "      <td>30.0</td>\n",
       "    </tr>\n",
       "  </tbody>\n",
       "</table>\n",
       "</div>"
      ],
      "text/plain": [
       "  Invoice StockCode                          Description  Quantity  \\\n",
       "0  489434     85048  15CM CHRISTMAS GLASS BALL 20 LIGHTS        12   \n",
       "1  489434    79323P                   PINK CHERRY LIGHTS        12   \n",
       "2  489434    79323W                  WHITE CHERRY LIGHTS        12   \n",
       "3  489434     22041         RECORD FRAME 7\" SINGLE SIZE         48   \n",
       "4  489434     21232       STRAWBERRY CERAMIC TRINKET BOX        24   \n",
       "\n",
       "          InvoiceDate  Price Customer ID         Country  Revenue  \n",
       "0 2009-12-01 07:45:00   6.95     13085.0  United Kingdom     83.4  \n",
       "1 2009-12-01 07:45:00   6.75     13085.0  United Kingdom     81.0  \n",
       "2 2009-12-01 07:45:00   6.75     13085.0  United Kingdom     81.0  \n",
       "3 2009-12-01 07:45:00   2.10     13085.0  United Kingdom    100.8  \n",
       "4 2009-12-01 07:45:00   1.25     13085.0  United Kingdom     30.0  "
      ]
     },
     "execution_count": 13,
     "metadata": {},
     "output_type": "execute_result"
    }
   ],
   "source": [
    "# 3. Create the 'Revenue' column (Price * Quantity)\n",
    "df_master['Revenue'] = df_master['Quantity']*df_master['Price']\n",
    "df_master.head(5)"
   ]
  },
  {
   "cell_type": "code",
   "execution_count": 15,
   "id": "78ffa8f8-baed-43c6-b0f7-dbe13ee042bf",
   "metadata": {},
   "outputs": [
    {
     "data": {
      "text/html": [
       "<div>\n",
       "<style scoped>\n",
       "    .dataframe tbody tr th:only-of-type {\n",
       "        vertical-align: middle;\n",
       "    }\n",
       "\n",
       "    .dataframe tbody tr th {\n",
       "        vertical-align: top;\n",
       "    }\n",
       "\n",
       "    .dataframe thead th {\n",
       "        text-align: right;\n",
       "    }\n",
       "</style>\n",
       "<table border=\"1\" class=\"dataframe\">\n",
       "  <thead>\n",
       "    <tr style=\"text-align: right;\">\n",
       "      <th></th>\n",
       "      <th>Invoice</th>\n",
       "      <th>StockCode</th>\n",
       "      <th>Description</th>\n",
       "      <th>Quantity</th>\n",
       "      <th>InvoiceDate</th>\n",
       "      <th>Price</th>\n",
       "      <th>Customer ID</th>\n",
       "      <th>Country</th>\n",
       "      <th>Revenue</th>\n",
       "      <th>YearMonth</th>\n",
       "    </tr>\n",
       "  </thead>\n",
       "  <tbody>\n",
       "    <tr>\n",
       "      <th>0</th>\n",
       "      <td>489434</td>\n",
       "      <td>85048</td>\n",
       "      <td>15CM CHRISTMAS GLASS BALL 20 LIGHTS</td>\n",
       "      <td>12</td>\n",
       "      <td>2009-12-01 07:45:00</td>\n",
       "      <td>6.95</td>\n",
       "      <td>13085.0</td>\n",
       "      <td>United Kingdom</td>\n",
       "      <td>83.4</td>\n",
       "      <td>2009-12</td>\n",
       "    </tr>\n",
       "    <tr>\n",
       "      <th>1</th>\n",
       "      <td>489434</td>\n",
       "      <td>79323P</td>\n",
       "      <td>PINK CHERRY LIGHTS</td>\n",
       "      <td>12</td>\n",
       "      <td>2009-12-01 07:45:00</td>\n",
       "      <td>6.75</td>\n",
       "      <td>13085.0</td>\n",
       "      <td>United Kingdom</td>\n",
       "      <td>81.0</td>\n",
       "      <td>2009-12</td>\n",
       "    </tr>\n",
       "    <tr>\n",
       "      <th>2</th>\n",
       "      <td>489434</td>\n",
       "      <td>79323W</td>\n",
       "      <td>WHITE CHERRY LIGHTS</td>\n",
       "      <td>12</td>\n",
       "      <td>2009-12-01 07:45:00</td>\n",
       "      <td>6.75</td>\n",
       "      <td>13085.0</td>\n",
       "      <td>United Kingdom</td>\n",
       "      <td>81.0</td>\n",
       "      <td>2009-12</td>\n",
       "    </tr>\n",
       "    <tr>\n",
       "      <th>3</th>\n",
       "      <td>489434</td>\n",
       "      <td>22041</td>\n",
       "      <td>RECORD FRAME 7\" SINGLE SIZE</td>\n",
       "      <td>48</td>\n",
       "      <td>2009-12-01 07:45:00</td>\n",
       "      <td>2.10</td>\n",
       "      <td>13085.0</td>\n",
       "      <td>United Kingdom</td>\n",
       "      <td>100.8</td>\n",
       "      <td>2009-12</td>\n",
       "    </tr>\n",
       "    <tr>\n",
       "      <th>4</th>\n",
       "      <td>489434</td>\n",
       "      <td>21232</td>\n",
       "      <td>STRAWBERRY CERAMIC TRINKET BOX</td>\n",
       "      <td>24</td>\n",
       "      <td>2009-12-01 07:45:00</td>\n",
       "      <td>1.25</td>\n",
       "      <td>13085.0</td>\n",
       "      <td>United Kingdom</td>\n",
       "      <td>30.0</td>\n",
       "      <td>2009-12</td>\n",
       "    </tr>\n",
       "  </tbody>\n",
       "</table>\n",
       "</div>"
      ],
      "text/plain": [
       "  Invoice StockCode                          Description  Quantity  \\\n",
       "0  489434     85048  15CM CHRISTMAS GLASS BALL 20 LIGHTS        12   \n",
       "1  489434    79323P                   PINK CHERRY LIGHTS        12   \n",
       "2  489434    79323W                  WHITE CHERRY LIGHTS        12   \n",
       "3  489434     22041         RECORD FRAME 7\" SINGLE SIZE         48   \n",
       "4  489434     21232       STRAWBERRY CERAMIC TRINKET BOX        24   \n",
       "\n",
       "          InvoiceDate  Price Customer ID         Country  Revenue YearMonth  \n",
       "0 2009-12-01 07:45:00   6.95     13085.0  United Kingdom     83.4   2009-12  \n",
       "1 2009-12-01 07:45:00   6.75     13085.0  United Kingdom     81.0   2009-12  \n",
       "2 2009-12-01 07:45:00   6.75     13085.0  United Kingdom     81.0   2009-12  \n",
       "3 2009-12-01 07:45:00   2.10     13085.0  United Kingdom    100.8   2009-12  \n",
       "4 2009-12-01 07:45:00   1.25     13085.0  United Kingdom     30.0   2009-12  "
      ]
     },
     "execution_count": 15,
     "metadata": {},
     "output_type": "execute_result"
    }
   ],
   "source": [
    "# 4. Create a time-based feature (YearMonth) for trend analysis\n",
    "df_master['YearMonth'] = df_master['InvoiceDate'].dt.to_period('M')\n",
    "df_master.head(5)"
   ]
  },
  {
   "cell_type": "code",
   "execution_count": 16,
   "id": "de0f2d4c-ab15-43a0-9b0c-cd68a64aa7e8",
   "metadata": {},
   "outputs": [
    {
     "name": "stdout",
     "output_type": "stream",
     "text": [
      "Removed canceled orders. Remaining rows: 1,044,421\n"
     ]
    }
   ],
   "source": [
    "# 5. Remove Canceled Orders\n",
    "# Canceled transactions usually have a negative Quantity or the Invoice starts with 'C'\n",
    "# We remove rows where Quantity is less than or equal to zero.\n",
    "\n",
    "df_master = df_master[df_master['Quantity'] > 0]\n",
    "print(f\"Removed canceled orders. Remaining rows: {len(df_master):,}\")"
   ]
  },
  {
   "cell_type": "code",
   "execution_count": 17,
   "id": "fb44d9e4-cc74-4601-848a-96c4cc408416",
   "metadata": {},
   "outputs": [
    {
     "name": "stdout",
     "output_type": "stream",
     "text": [
      "Removed rows with missing Customer ID. Remaining rows: 805,620\n"
     ]
    }
   ],
   "source": [
    "# 6. Remove rows with Missing Customer IDs\n",
    "# We check for 'nan' or empty string since we converted it to string earlier\n",
    "df_master = df_master[df_master['Customer ID'].notna()]\n",
    "df_master = df_master[df_master['Customer ID'] != 'nan']\n",
    "print(f\"Removed rows with missing Customer ID. Remaining rows: {len(df_master):,}\")"
   ]
  },
  {
   "cell_type": "code",
   "execution_count": 18,
   "id": "1a498cce-74d8-407d-b7cd-48260cc8fbd8",
   "metadata": {},
   "outputs": [],
   "source": [
    "# 7. Clean up the Description (Product Name)\n",
    "# Remove leading/trailing spaces from product names\n",
    "df_master['Description'] = df_master['Description'].str.strip()"
   ]
  },
  {
   "cell_type": "code",
   "execution_count": 19,
   "id": "b437c58f-e5e2-4874-b110-2b4aae4f227f",
   "metadata": {},
   "outputs": [
    {
     "name": "stdout",
     "output_type": "stream",
     "text": [
      "<class 'pandas.core.frame.DataFrame'>\n",
      "Index: 805620 entries, 0 to 1067370\n",
      "Data columns (total 10 columns):\n",
      " #   Column       Non-Null Count   Dtype         \n",
      "---  ------       --------------   -----         \n",
      " 0   Invoice      805620 non-null  object        \n",
      " 1   StockCode    805620 non-null  object        \n",
      " 2   Description  805620 non-null  object        \n",
      " 3   Quantity     805620 non-null  int64         \n",
      " 4   InvoiceDate  805620 non-null  datetime64[ns]\n",
      " 5   Price        805620 non-null  float64       \n",
      " 6   Customer ID  805620 non-null  object        \n",
      " 7   Country      805620 non-null  object        \n",
      " 8   Revenue      805620 non-null  float64       \n",
      " 9   YearMonth    805620 non-null  period[M]     \n",
      "dtypes: datetime64[ns](1), float64(2), int64(1), object(5), period[M](1)\n",
      "memory usage: 67.6+ MB\n"
     ]
    }
   ],
   "source": [
    "df_master.info()"
   ]
  },
  {
   "cell_type": "code",
   "execution_count": 20,
   "id": "b14eea83-3ecb-40e1-9aab-f37772fe1b90",
   "metadata": {},
   "outputs": [
    {
     "data": {
      "text/plain": [
       "Invoice        0\n",
       "StockCode      0\n",
       "Description    0\n",
       "Quantity       0\n",
       "InvoiceDate    0\n",
       "Price          0\n",
       "Customer ID    0\n",
       "Country        0\n",
       "Revenue        0\n",
       "YearMonth      0\n",
       "dtype: int64"
      ]
     },
     "execution_count": 20,
     "metadata": {},
     "output_type": "execute_result"
    }
   ],
   "source": [
    "df_master.isnull().sum()"
   ]
  },
  {
   "cell_type": "code",
   "execution_count": 21,
   "id": "e9204b8c-9358-45ea-93c5-f1d5cbd642de",
   "metadata": {},
   "outputs": [
    {
     "name": "stdout",
     "output_type": "stream",
     "text": [
      "\n",
      "--- Top 10 Best-Selling Products (By Quantity) ---\n",
      "Description\n",
      "WORLD WAR 2 GLIDERS ASSTD DESIGNS     109169\n",
      "WHITE HANGING HEART T-LIGHT HOLDER     93640\n",
      "PAPER CRAFT , LITTLE BIRDIE            80995\n",
      "ASSORTED COLOUR BIRD ORNAMENT          79913\n",
      "MEDIUM CERAMIC TOP STORAGE JAR         77916\n",
      "JUMBO BAG RED RETROSPOT                75759\n",
      "BROCADE RING PURSE                     71129\n",
      "PACK OF 60 PINK PAISLEY CAKE CASES     55270\n",
      "60 TEATIME FAIRY CAKE CASES            53495\n",
      "PACK OF 72 RETROSPOT CAKE CASES        46107\n",
      "Name: Quantity, dtype: int64\n"
     ]
    }
   ],
   "source": [
    "# Top 10 Best-Selling Products (By Quantity)\n",
    "\n",
    "top_selling_products = df_master.groupby('Description')['Quantity'].sum().nlargest(10)\n",
    "print(\"\\n--- Top 10 Best-Selling Products (By Quantity) ---\")\n",
    "print(top_selling_products)"
   ]
  },
  {
   "cell_type": "code",
   "execution_count": 25,
   "id": "2b22bc1b-0b05-47a8-8677-a676b8d5f585",
   "metadata": {},
   "outputs": [
    {
     "name": "stdout",
     "output_type": "stream",
     "text": [
      "\n",
      "--- Top 10 High-Revenue Generators (By Revenue) ---\n",
      "Description\n",
      "REGENCY CAKESTAND 3 TIER              £286,486.30\n",
      "WHITE HANGING HEART T-LIGHT HOLDER    £252,072.46\n",
      "PAPER CRAFT , LITTLE BIRDIE           £168,469.60\n",
      "Manual                                £152,340.57\n",
      "JUMBO BAG RED RETROSPOT               £136,980.08\n",
      "ASSORTED COLOUR BIRD ORNAMENT         £127,074.17\n",
      "POSTAGE                               £126,563.04\n",
      "PARTY BUNTING                         £103,880.23\n",
      "MEDIUM CERAMIC TOP STORAGE JAR         £81,416.73\n",
      "PAPER CHAIN KIT 50'S CHRISTMAS         £79,594.33\n",
      "Name: Revenue, dtype: object\n"
     ]
    }
   ],
   "source": [
    "# Top 10 High-Revenue Generators\n",
    "\n",
    "top_highest_revenue = df_master.groupby('Description')['Revenue'].sum().nlargest(10)\n",
    "print(\"\\n--- Top 10 High-Revenue Generators (By Revenue) ---\")\n",
    "print(top_highest_revenue.map('£{:,.2f}'.format)) # Formatting as currency for easy reading"
   ]
  },
  {
   "cell_type": "code",
   "execution_count": 30,
   "id": "75f062f7-e173-4054-8ecc-22fd9f15d3ee",
   "metadata": {},
   "outputs": [
    {
     "name": "stdout",
     "output_type": "stream",
     "text": [
      "\n",
      "--- Monthly Revenue Trend ---\n",
      "YearMonth\n",
      "2009-12      £686,654.16\n",
      "2010-01      £557,319.06\n",
      "2010-02      £506,371.07\n",
      "2010-03      £699,608.99\n",
      "2010-04      £594,609.19\n",
      "2010-05      £599,985.79\n",
      "2010-06      £639,066.58\n",
      "2010-07      £591,636.74\n",
      "2010-08      £604,242.65\n",
      "2010-09      £831,615.00\n",
      "2010-10    £1,036,680.00\n",
      "2010-11    £1,172,336.04\n",
      "2010-12      £884,591.89\n",
      "2011-01      £569,445.04\n",
      "2011-02      £447,137.35\n",
      "2011-03      £595,500.76\n",
      "2011-04      £469,200.36\n",
      "2011-05      £678,594.56\n",
      "2011-06      £661,213.69\n",
      "2011-07      £600,091.01\n",
      "2011-08      £645,343.90\n",
      "2011-09      £952,838.38\n",
      "2011-10    £1,039,318.79\n",
      "2011-11    £1,161,817.38\n",
      "2011-12      £518,210.79\n",
      "Freq: M, Name: Revenue, dtype: object\n"
     ]
    }
   ],
   "source": [
    "#Sales Trend Over Time\n",
    "sale_trens = df_master.groupby('YearMonth')['Revenue'].sum()\n",
    "print(\"\\n--- Monthly Revenue Trend ---\")\n",
    "print(sale_trens.map('£{:,.2f}'.format))"
   ]
  },
  {
   "cell_type": "code",
   "execution_count": 32,
   "id": "8feb55ef-93a1-47be-a2ea-11cff0caa681",
   "metadata": {},
   "outputs": [
    {
     "name": "stdout",
     "output_type": "stream",
     "text": [
      "\n",
      "--- Export Successful ---\n",
      "File 'cleaned_ecommerce_data_for_powerbi.csv' is ready to be loaded into Power BI.\n"
     ]
    }
   ],
   "source": [
    "# Export the final clean DataFrame to a single CSV file\n",
    "df_master.to_csv('cleaned_ecommerce_data_for_powerbi.csv', index=False)\n",
    "\n",
    "print(\"\\n--- Export Successful ---\")\n",
    "print(\"File 'cleaned_ecommerce_data_for_powerbi.csv' is ready to be loaded into Power BI.\")"
   ]
  },
  {
   "cell_type": "code",
   "execution_count": null,
   "id": "a99d01ad-b9d4-40fe-914b-6927126f0583",
   "metadata": {},
   "outputs": [],
   "source": []
  }
 ],
 "metadata": {
  "kernelspec": {
   "display_name": "Python 3 (ipykernel)",
   "language": "python",
   "name": "python3"
  },
  "language_info": {
   "codemirror_mode": {
    "name": "ipython",
    "version": 3
   },
   "file_extension": ".py",
   "mimetype": "text/x-python",
   "name": "python",
   "nbconvert_exporter": "python",
   "pygments_lexer": "ipython3",
   "version": "3.13.5"
  }
 },
 "nbformat": 4,
 "nbformat_minor": 5
}
